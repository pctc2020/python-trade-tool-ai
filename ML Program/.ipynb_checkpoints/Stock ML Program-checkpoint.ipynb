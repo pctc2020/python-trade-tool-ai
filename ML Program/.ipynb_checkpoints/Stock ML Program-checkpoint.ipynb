{
 "cells": [
  {
   "cell_type": "code",
   "execution_count": 5,
   "id": "d7bf98e0",
   "metadata": {},
   "outputs": [],
   "source": [
    "import pandas as pd\n",
    "import numpy as np\n",
    "from sklearn import metrics\n",
    "%matplotlib inline\n",
    "import matplotlib.pyplot as plt\n"
   ]
  },
  {
   "cell_type": "code",
   "execution_count": 11,
   "id": "a094a1b2",
   "metadata": {},
   "outputs": [],
   "source": [
    "df = pd.read_csv('E:/python_intelora_code/ML Program/trade_record_zenithbir.csv')"
   ]
  },
  {
   "cell_type": "code",
   "execution_count": 13,
   "id": "c3f2c2bd",
   "metadata": {},
   "outputs": [
    {
     "data": {
      "text/html": [
       "<div>\n",
       "<style scoped>\n",
       "    .dataframe tbody tr th:only-of-type {\n",
       "        vertical-align: middle;\n",
       "    }\n",
       "\n",
       "    .dataframe tbody tr th {\n",
       "        vertical-align: top;\n",
       "    }\n",
       "\n",
       "    .dataframe thead th {\n",
       "        text-align: right;\n",
       "    }\n",
       "</style>\n",
       "<table border=\"1\" class=\"dataframe\">\n",
       "  <thead>\n",
       "    <tr style=\"text-align: right;\">\n",
       "      <th></th>\n",
       "      <th>id</th>\n",
       "      <th>script</th>\n",
       "      <th>stock</th>\n",
       "      <th>high</th>\n",
       "      <th>low</th>\n",
       "      <th>open</th>\n",
       "      <th>close</th>\n",
       "      <th>last_price</th>\n",
       "      <th>prev_close</th>\n",
       "      <th>quantity</th>\n",
       "      <th>traded_value</th>\n",
       "      <th>52W_high</th>\n",
       "      <th>52 Week Low Price</th>\n",
       "      <th>tradetime2</th>\n",
       "    </tr>\n",
       "  </thead>\n",
       "  <tbody>\n",
       "    <tr>\n",
       "      <th>0</th>\n",
       "      <td>1</td>\n",
       "      <td>ZENITHSTL</td>\n",
       "      <td>EQ</td>\n",
       "      <td>5.30</td>\n",
       "      <td>5.10</td>\n",
       "      <td>5.15</td>\n",
       "      <td>5.10</td>\n",
       "      <td>5.20</td>\n",
       "      <td>5.10</td>\n",
       "      <td>238674</td>\n",
       "      <td>1233290</td>\n",
       "      <td>12.7</td>\n",
       "      <td>5.00</td>\n",
       "      <td>11-11-2022</td>\n",
       "    </tr>\n",
       "    <tr>\n",
       "      <th>1</th>\n",
       "      <td>2</td>\n",
       "      <td>ZENITHSTL</td>\n",
       "      <td>EQ</td>\n",
       "      <td>5.30</td>\n",
       "      <td>5.00</td>\n",
       "      <td>5.25</td>\n",
       "      <td>5.05</td>\n",
       "      <td>5.05</td>\n",
       "      <td>5.10</td>\n",
       "      <td>197247</td>\n",
       "      <td>1006710</td>\n",
       "      <td>12.7</td>\n",
       "      <td>5.00</td>\n",
       "      <td>14-11-2022</td>\n",
       "    </tr>\n",
       "    <tr>\n",
       "      <th>2</th>\n",
       "      <td>3</td>\n",
       "      <td>ZENITHSTL</td>\n",
       "      <td>EQ</td>\n",
       "      <td>5.25</td>\n",
       "      <td>4.85</td>\n",
       "      <td>5.25</td>\n",
       "      <td>4.95</td>\n",
       "      <td>4.95</td>\n",
       "      <td>5.05</td>\n",
       "      <td>281235</td>\n",
       "      <td>1393400</td>\n",
       "      <td>12.7</td>\n",
       "      <td>4.85</td>\n",
       "      <td>15-11-2022</td>\n",
       "    </tr>\n",
       "    <tr>\n",
       "      <th>3</th>\n",
       "      <td>4</td>\n",
       "      <td>ZENITHSTL</td>\n",
       "      <td>EQ</td>\n",
       "      <td>5.05</td>\n",
       "      <td>4.85</td>\n",
       "      <td>5.05</td>\n",
       "      <td>4.95</td>\n",
       "      <td>5.00</td>\n",
       "      <td>4.95</td>\n",
       "      <td>191339</td>\n",
       "      <td>941274</td>\n",
       "      <td>12.7</td>\n",
       "      <td>4.85</td>\n",
       "      <td>16-11-2022</td>\n",
       "    </tr>\n",
       "    <tr>\n",
       "      <th>4</th>\n",
       "      <td>5</td>\n",
       "      <td>ZENITHSTL</td>\n",
       "      <td>EQ</td>\n",
       "      <td>5.05</td>\n",
       "      <td>4.75</td>\n",
       "      <td>5.05</td>\n",
       "      <td>4.80</td>\n",
       "      <td>4.85</td>\n",
       "      <td>4.95</td>\n",
       "      <td>203404</td>\n",
       "      <td>986822</td>\n",
       "      <td>12.7</td>\n",
       "      <td>4.75</td>\n",
       "      <td>17-11-2022</td>\n",
       "    </tr>\n",
       "    <tr>\n",
       "      <th>5</th>\n",
       "      <td>6</td>\n",
       "      <td>ZENITHSTL</td>\n",
       "      <td>EQ</td>\n",
       "      <td>4.90</td>\n",
       "      <td>4.60</td>\n",
       "      <td>4.85</td>\n",
       "      <td>4.65</td>\n",
       "      <td>4.65</td>\n",
       "      <td>4.80</td>\n",
       "      <td>315401</td>\n",
       "      <td>1471740</td>\n",
       "      <td>12.7</td>\n",
       "      <td>4.60</td>\n",
       "      <td>18-11-2022</td>\n",
       "    </tr>\n",
       "    <tr>\n",
       "      <th>6</th>\n",
       "      <td>7</td>\n",
       "      <td>ZENITHSTL</td>\n",
       "      <td>EQ</td>\n",
       "      <td>4.85</td>\n",
       "      <td>4.60</td>\n",
       "      <td>4.60</td>\n",
       "      <td>4.60</td>\n",
       "      <td>4.65</td>\n",
       "      <td>4.65</td>\n",
       "      <td>178291</td>\n",
       "      <td>835636</td>\n",
       "      <td>12.7</td>\n",
       "      <td>4.60</td>\n",
       "      <td>21-11-2022</td>\n",
       "    </tr>\n",
       "    <tr>\n",
       "      <th>7</th>\n",
       "      <td>8</td>\n",
       "      <td>ZENITHSTL</td>\n",
       "      <td>EQ</td>\n",
       "      <td>4.70</td>\n",
       "      <td>4.55</td>\n",
       "      <td>4.70</td>\n",
       "      <td>4.55</td>\n",
       "      <td>4.60</td>\n",
       "      <td>4.60</td>\n",
       "      <td>107597</td>\n",
       "      <td>494573</td>\n",
       "      <td>12.7</td>\n",
       "      <td>4.55</td>\n",
       "      <td>22-11-2022</td>\n",
       "    </tr>\n",
       "    <tr>\n",
       "      <th>8</th>\n",
       "      <td>9</td>\n",
       "      <td>ZENITHSTL</td>\n",
       "      <td>EQ</td>\n",
       "      <td>4.70</td>\n",
       "      <td>4.40</td>\n",
       "      <td>4.70</td>\n",
       "      <td>4.45</td>\n",
       "      <td>4.55</td>\n",
       "      <td>4.55</td>\n",
       "      <td>210048</td>\n",
       "      <td>955873</td>\n",
       "      <td>12.7</td>\n",
       "      <td>4.40</td>\n",
       "      <td>23-11-2022</td>\n",
       "    </tr>\n",
       "    <tr>\n",
       "      <th>9</th>\n",
       "      <td>10</td>\n",
       "      <td>ZENITHSTL</td>\n",
       "      <td>EQ</td>\n",
       "      <td>4.65</td>\n",
       "      <td>4.25</td>\n",
       "      <td>4.55</td>\n",
       "      <td>4.30</td>\n",
       "      <td>4.40</td>\n",
       "      <td>4.45</td>\n",
       "      <td>405854</td>\n",
       "      <td>1797270</td>\n",
       "      <td>12.7</td>\n",
       "      <td>4.25</td>\n",
       "      <td>24-11-2022</td>\n",
       "    </tr>\n",
       "  </tbody>\n",
       "</table>\n",
       "</div>"
      ],
      "text/plain": [
       "   id     script stock  high   low  open  close  last_price  prev_close  \\\n",
       "0   1  ZENITHSTL    EQ  5.30  5.10  5.15   5.10        5.20        5.10   \n",
       "1   2  ZENITHSTL    EQ  5.30  5.00  5.25   5.05        5.05        5.10   \n",
       "2   3  ZENITHSTL    EQ  5.25  4.85  5.25   4.95        4.95        5.05   \n",
       "3   4  ZENITHSTL    EQ  5.05  4.85  5.05   4.95        5.00        4.95   \n",
       "4   5  ZENITHSTL    EQ  5.05  4.75  5.05   4.80        4.85        4.95   \n",
       "5   6  ZENITHSTL    EQ  4.90  4.60  4.85   4.65        4.65        4.80   \n",
       "6   7  ZENITHSTL    EQ  4.85  4.60  4.60   4.60        4.65        4.65   \n",
       "7   8  ZENITHSTL    EQ  4.70  4.55  4.70   4.55        4.60        4.60   \n",
       "8   9  ZENITHSTL    EQ  4.70  4.40  4.70   4.45        4.55        4.55   \n",
       "9  10  ZENITHSTL    EQ  4.65  4.25  4.55   4.30        4.40        4.45   \n",
       "\n",
       "   quantity  traded_value  52W_high  52 Week Low Price  tradetime2  \n",
       "0    238674       1233290      12.7               5.00  11-11-2022  \n",
       "1    197247       1006710      12.7               5.00  14-11-2022  \n",
       "2    281235       1393400      12.7               4.85  15-11-2022  \n",
       "3    191339        941274      12.7               4.85  16-11-2022  \n",
       "4    203404        986822      12.7               4.75  17-11-2022  \n",
       "5    315401       1471740      12.7               4.60  18-11-2022  \n",
       "6    178291        835636      12.7               4.60  21-11-2022  \n",
       "7    107597        494573      12.7               4.55  22-11-2022  \n",
       "8    210048        955873      12.7               4.40  23-11-2022  \n",
       "9    405854       1797270      12.7               4.25  24-11-2022  "
      ]
     },
     "execution_count": 13,
     "metadata": {},
     "output_type": "execute_result"
    }
   ],
   "source": [
    "df.head(10)"
   ]
  },
  {
   "cell_type": "code",
   "execution_count": 14,
   "id": "7b07d19c",
   "metadata": {},
   "outputs": [
    {
     "data": {
      "text/plain": [
       "(36, 14)"
      ]
     },
     "execution_count": 14,
     "metadata": {},
     "output_type": "execute_result"
    }
   ],
   "source": [
    "df.shape"
   ]
  },
  {
   "cell_type": "code",
   "execution_count": 30,
   "id": "3f5b3bbd",
   "metadata": {},
   "outputs": [
    {
     "ename": "KeyError",
     "evalue": "\"['last_price', 'prev_close', 'traded_value', '52W_high', '52 Week Low Price'] not found in axis\"",
     "output_type": "error",
     "traceback": [
      "\u001b[1;31m---------------------------------------------------------------------------\u001b[0m",
      "\u001b[1;31mKeyError\u001b[0m                                  Traceback (most recent call last)",
      "Input \u001b[1;32mIn [30]\u001b[0m, in \u001b[0;36m<module>\u001b[1;34m\u001b[0m\n\u001b[1;32m----> 1\u001b[0m \u001b[43mdf\u001b[49m\u001b[38;5;241;43m.\u001b[39;49m\u001b[43mdrop\u001b[49m\u001b[43m(\u001b[49m\u001b[43m[\u001b[49m\u001b[38;5;124;43m'\u001b[39;49m\u001b[38;5;124;43mlast_price\u001b[39;49m\u001b[38;5;124;43m'\u001b[39;49m\u001b[43m,\u001b[49m\u001b[38;5;124;43m'\u001b[39;49m\u001b[38;5;124;43mprev_close\u001b[39;49m\u001b[38;5;124;43m'\u001b[39;49m\u001b[43m,\u001b[49m\u001b[38;5;124;43m'\u001b[39;49m\u001b[38;5;124;43mtraded_value\u001b[39;49m\u001b[38;5;124;43m'\u001b[39;49m\u001b[43m,\u001b[49m\u001b[38;5;124;43m'\u001b[39;49m\u001b[38;5;124;43m52W_high\u001b[39;49m\u001b[38;5;124;43m'\u001b[39;49m\u001b[43m,\u001b[49m\u001b[38;5;124;43m'\u001b[39;49m\u001b[38;5;124;43m52 Week Low Price\u001b[39;49m\u001b[38;5;124;43m'\u001b[39;49m\u001b[43m]\u001b[49m\u001b[43m,\u001b[49m\u001b[43m \u001b[49m\u001b[43maxis\u001b[49m\u001b[38;5;241;43m=\u001b[39;49m\u001b[38;5;241;43m1\u001b[39;49m\u001b[43m,\u001b[49m\u001b[43m \u001b[49m\u001b[43minplace\u001b[49m\u001b[38;5;241;43m=\u001b[39;49m\u001b[38;5;28;43;01mTrue\u001b[39;49;00m\u001b[43m)\u001b[49m\n",
      "File \u001b[1;32m~\\AppData\\Local\\Programs\\Python\\Python39\\lib\\site-packages\\pandas\\core\\frame.py:5581\u001b[0m, in \u001b[0;36mDataFrame.drop\u001b[1;34m(self, labels, axis, index, columns, level, inplace, errors)\u001b[0m\n\u001b[0;32m   5433\u001b[0m \u001b[38;5;28;01mdef\u001b[39;00m \u001b[38;5;21mdrop\u001b[39m(\n\u001b[0;32m   5434\u001b[0m     \u001b[38;5;28mself\u001b[39m,\n\u001b[0;32m   5435\u001b[0m     labels: IndexLabel \u001b[38;5;241m|\u001b[39m \u001b[38;5;28;01mNone\u001b[39;00m \u001b[38;5;241m=\u001b[39m \u001b[38;5;28;01mNone\u001b[39;00m,\n\u001b[1;32m   (...)\u001b[0m\n\u001b[0;32m   5442\u001b[0m     errors: IgnoreRaise \u001b[38;5;241m=\u001b[39m \u001b[38;5;124m\"\u001b[39m\u001b[38;5;124mraise\u001b[39m\u001b[38;5;124m\"\u001b[39m,\n\u001b[0;32m   5443\u001b[0m ) \u001b[38;5;241m-\u001b[39m\u001b[38;5;241m>\u001b[39m DataFrame \u001b[38;5;241m|\u001b[39m \u001b[38;5;28;01mNone\u001b[39;00m:\n\u001b[0;32m   5444\u001b[0m     \u001b[38;5;124;03m\"\"\"\u001b[39;00m\n\u001b[0;32m   5445\u001b[0m \u001b[38;5;124;03m    Drop specified labels from rows or columns.\u001b[39;00m\n\u001b[0;32m   5446\u001b[0m \n\u001b[1;32m   (...)\u001b[0m\n\u001b[0;32m   5579\u001b[0m \u001b[38;5;124;03m            weight  1.0     0.8\u001b[39;00m\n\u001b[0;32m   5580\u001b[0m \u001b[38;5;124;03m    \"\"\"\u001b[39;00m\n\u001b[1;32m-> 5581\u001b[0m     \u001b[38;5;28;01mreturn\u001b[39;00m \u001b[38;5;28;43msuper\u001b[39;49m\u001b[43m(\u001b[49m\u001b[43m)\u001b[49m\u001b[38;5;241;43m.\u001b[39;49m\u001b[43mdrop\u001b[49m\u001b[43m(\u001b[49m\n\u001b[0;32m   5582\u001b[0m \u001b[43m        \u001b[49m\u001b[43mlabels\u001b[49m\u001b[38;5;241;43m=\u001b[39;49m\u001b[43mlabels\u001b[49m\u001b[43m,\u001b[49m\n\u001b[0;32m   5583\u001b[0m \u001b[43m        \u001b[49m\u001b[43maxis\u001b[49m\u001b[38;5;241;43m=\u001b[39;49m\u001b[43maxis\u001b[49m\u001b[43m,\u001b[49m\n\u001b[0;32m   5584\u001b[0m \u001b[43m        \u001b[49m\u001b[43mindex\u001b[49m\u001b[38;5;241;43m=\u001b[39;49m\u001b[43mindex\u001b[49m\u001b[43m,\u001b[49m\n\u001b[0;32m   5585\u001b[0m \u001b[43m        \u001b[49m\u001b[43mcolumns\u001b[49m\u001b[38;5;241;43m=\u001b[39;49m\u001b[43mcolumns\u001b[49m\u001b[43m,\u001b[49m\n\u001b[0;32m   5586\u001b[0m \u001b[43m        \u001b[49m\u001b[43mlevel\u001b[49m\u001b[38;5;241;43m=\u001b[39;49m\u001b[43mlevel\u001b[49m\u001b[43m,\u001b[49m\n\u001b[0;32m   5587\u001b[0m \u001b[43m        \u001b[49m\u001b[43minplace\u001b[49m\u001b[38;5;241;43m=\u001b[39;49m\u001b[43minplace\u001b[49m\u001b[43m,\u001b[49m\n\u001b[0;32m   5588\u001b[0m \u001b[43m        \u001b[49m\u001b[43merrors\u001b[49m\u001b[38;5;241;43m=\u001b[39;49m\u001b[43merrors\u001b[49m\u001b[43m,\u001b[49m\n\u001b[0;32m   5589\u001b[0m \u001b[43m    \u001b[49m\u001b[43m)\u001b[49m\n",
      "File \u001b[1;32m~\\AppData\\Local\\Programs\\Python\\Python39\\lib\\site-packages\\pandas\\core\\generic.py:4788\u001b[0m, in \u001b[0;36mNDFrame.drop\u001b[1;34m(self, labels, axis, index, columns, level, inplace, errors)\u001b[0m\n\u001b[0;32m   4786\u001b[0m \u001b[38;5;28;01mfor\u001b[39;00m axis, labels \u001b[38;5;129;01min\u001b[39;00m axes\u001b[38;5;241m.\u001b[39mitems():\n\u001b[0;32m   4787\u001b[0m     \u001b[38;5;28;01mif\u001b[39;00m labels \u001b[38;5;129;01mis\u001b[39;00m \u001b[38;5;129;01mnot\u001b[39;00m \u001b[38;5;28;01mNone\u001b[39;00m:\n\u001b[1;32m-> 4788\u001b[0m         obj \u001b[38;5;241m=\u001b[39m \u001b[43mobj\u001b[49m\u001b[38;5;241;43m.\u001b[39;49m\u001b[43m_drop_axis\u001b[49m\u001b[43m(\u001b[49m\u001b[43mlabels\u001b[49m\u001b[43m,\u001b[49m\u001b[43m \u001b[49m\u001b[43maxis\u001b[49m\u001b[43m,\u001b[49m\u001b[43m \u001b[49m\u001b[43mlevel\u001b[49m\u001b[38;5;241;43m=\u001b[39;49m\u001b[43mlevel\u001b[49m\u001b[43m,\u001b[49m\u001b[43m \u001b[49m\u001b[43merrors\u001b[49m\u001b[38;5;241;43m=\u001b[39;49m\u001b[43merrors\u001b[49m\u001b[43m)\u001b[49m\n\u001b[0;32m   4790\u001b[0m \u001b[38;5;28;01mif\u001b[39;00m inplace:\n\u001b[0;32m   4791\u001b[0m     \u001b[38;5;28mself\u001b[39m\u001b[38;5;241m.\u001b[39m_update_inplace(obj)\n",
      "File \u001b[1;32m~\\AppData\\Local\\Programs\\Python\\Python39\\lib\\site-packages\\pandas\\core\\generic.py:4830\u001b[0m, in \u001b[0;36mNDFrame._drop_axis\u001b[1;34m(self, labels, axis, level, errors, only_slice)\u001b[0m\n\u001b[0;32m   4828\u001b[0m         new_axis \u001b[38;5;241m=\u001b[39m axis\u001b[38;5;241m.\u001b[39mdrop(labels, level\u001b[38;5;241m=\u001b[39mlevel, errors\u001b[38;5;241m=\u001b[39merrors)\n\u001b[0;32m   4829\u001b[0m     \u001b[38;5;28;01melse\u001b[39;00m:\n\u001b[1;32m-> 4830\u001b[0m         new_axis \u001b[38;5;241m=\u001b[39m \u001b[43maxis\u001b[49m\u001b[38;5;241;43m.\u001b[39;49m\u001b[43mdrop\u001b[49m\u001b[43m(\u001b[49m\u001b[43mlabels\u001b[49m\u001b[43m,\u001b[49m\u001b[43m \u001b[49m\u001b[43merrors\u001b[49m\u001b[38;5;241;43m=\u001b[39;49m\u001b[43merrors\u001b[49m\u001b[43m)\u001b[49m\n\u001b[0;32m   4831\u001b[0m     indexer \u001b[38;5;241m=\u001b[39m axis\u001b[38;5;241m.\u001b[39mget_indexer(new_axis)\n\u001b[0;32m   4833\u001b[0m \u001b[38;5;66;03m# Case for non-unique axis\u001b[39;00m\n\u001b[0;32m   4834\u001b[0m \u001b[38;5;28;01melse\u001b[39;00m:\n",
      "File \u001b[1;32m~\\AppData\\Local\\Programs\\Python\\Python39\\lib\\site-packages\\pandas\\core\\indexes\\base.py:7070\u001b[0m, in \u001b[0;36mIndex.drop\u001b[1;34m(self, labels, errors)\u001b[0m\n\u001b[0;32m   7068\u001b[0m \u001b[38;5;28;01mif\u001b[39;00m mask\u001b[38;5;241m.\u001b[39many():\n\u001b[0;32m   7069\u001b[0m     \u001b[38;5;28;01mif\u001b[39;00m errors \u001b[38;5;241m!=\u001b[39m \u001b[38;5;124m\"\u001b[39m\u001b[38;5;124mignore\u001b[39m\u001b[38;5;124m\"\u001b[39m:\n\u001b[1;32m-> 7070\u001b[0m         \u001b[38;5;28;01mraise\u001b[39;00m \u001b[38;5;167;01mKeyError\u001b[39;00m(\u001b[38;5;124mf\u001b[39m\u001b[38;5;124m\"\u001b[39m\u001b[38;5;132;01m{\u001b[39;00mlabels[mask]\u001b[38;5;241m.\u001b[39mtolist()\u001b[38;5;132;01m}\u001b[39;00m\u001b[38;5;124m not found in axis\u001b[39m\u001b[38;5;124m\"\u001b[39m)\n\u001b[0;32m   7071\u001b[0m     indexer \u001b[38;5;241m=\u001b[39m indexer[\u001b[38;5;241m~\u001b[39mmask]\n\u001b[0;32m   7072\u001b[0m \u001b[38;5;28;01mreturn\u001b[39;00m \u001b[38;5;28mself\u001b[39m\u001b[38;5;241m.\u001b[39mdelete(indexer)\n",
      "\u001b[1;31mKeyError\u001b[0m: \"['last_price', 'prev_close', 'traded_value', '52W_high', '52 Week Low Price'] not found in axis\""
     ]
    }
   ],
   "source": [
    "df.drop(['last_price','prev_close','traded_value','52W_high','52 Week Low Price'], axis=1, inplace=True)"
   ]
  },
  {
   "cell_type": "code",
   "execution_count": 17,
   "id": "8309b8d9",
   "metadata": {},
   "outputs": [
    {
     "data": {
      "text/html": [
       "<div>\n",
       "<style scoped>\n",
       "    .dataframe tbody tr th:only-of-type {\n",
       "        vertical-align: middle;\n",
       "    }\n",
       "\n",
       "    .dataframe tbody tr th {\n",
       "        vertical-align: top;\n",
       "    }\n",
       "\n",
       "    .dataframe thead th {\n",
       "        text-align: right;\n",
       "    }\n",
       "</style>\n",
       "<table border=\"1\" class=\"dataframe\">\n",
       "  <thead>\n",
       "    <tr style=\"text-align: right;\">\n",
       "      <th></th>\n",
       "      <th>id</th>\n",
       "      <th>script</th>\n",
       "      <th>stock</th>\n",
       "      <th>high</th>\n",
       "      <th>low</th>\n",
       "      <th>open</th>\n",
       "      <th>close</th>\n",
       "      <th>quantity</th>\n",
       "      <th>tradetime2</th>\n",
       "    </tr>\n",
       "  </thead>\n",
       "  <tbody>\n",
       "    <tr>\n",
       "      <th>0</th>\n",
       "      <td>1</td>\n",
       "      <td>ZENITHSTL</td>\n",
       "      <td>EQ</td>\n",
       "      <td>5.30</td>\n",
       "      <td>5.10</td>\n",
       "      <td>5.15</td>\n",
       "      <td>5.10</td>\n",
       "      <td>238674</td>\n",
       "      <td>11-11-2022</td>\n",
       "    </tr>\n",
       "    <tr>\n",
       "      <th>1</th>\n",
       "      <td>2</td>\n",
       "      <td>ZENITHSTL</td>\n",
       "      <td>EQ</td>\n",
       "      <td>5.30</td>\n",
       "      <td>5.00</td>\n",
       "      <td>5.25</td>\n",
       "      <td>5.05</td>\n",
       "      <td>197247</td>\n",
       "      <td>14-11-2022</td>\n",
       "    </tr>\n",
       "    <tr>\n",
       "      <th>2</th>\n",
       "      <td>3</td>\n",
       "      <td>ZENITHSTL</td>\n",
       "      <td>EQ</td>\n",
       "      <td>5.25</td>\n",
       "      <td>4.85</td>\n",
       "      <td>5.25</td>\n",
       "      <td>4.95</td>\n",
       "      <td>281235</td>\n",
       "      <td>15-11-2022</td>\n",
       "    </tr>\n",
       "    <tr>\n",
       "      <th>3</th>\n",
       "      <td>4</td>\n",
       "      <td>ZENITHSTL</td>\n",
       "      <td>EQ</td>\n",
       "      <td>5.05</td>\n",
       "      <td>4.85</td>\n",
       "      <td>5.05</td>\n",
       "      <td>4.95</td>\n",
       "      <td>191339</td>\n",
       "      <td>16-11-2022</td>\n",
       "    </tr>\n",
       "    <tr>\n",
       "      <th>4</th>\n",
       "      <td>5</td>\n",
       "      <td>ZENITHSTL</td>\n",
       "      <td>EQ</td>\n",
       "      <td>5.05</td>\n",
       "      <td>4.75</td>\n",
       "      <td>5.05</td>\n",
       "      <td>4.80</td>\n",
       "      <td>203404</td>\n",
       "      <td>17-11-2022</td>\n",
       "    </tr>\n",
       "  </tbody>\n",
       "</table>\n",
       "</div>"
      ],
      "text/plain": [
       "   id     script stock  high   low  open  close  quantity  tradetime2\n",
       "0   1  ZENITHSTL    EQ  5.30  5.10  5.15   5.10    238674  11-11-2022\n",
       "1   2  ZENITHSTL    EQ  5.30  5.00  5.25   5.05    197247  14-11-2022\n",
       "2   3  ZENITHSTL    EQ  5.25  4.85  5.25   4.95    281235  15-11-2022\n",
       "3   4  ZENITHSTL    EQ  5.05  4.85  5.05   4.95    191339  16-11-2022\n",
       "4   5  ZENITHSTL    EQ  5.05  4.75  5.05   4.80    203404  17-11-2022"
      ]
     },
     "execution_count": 17,
     "metadata": {},
     "output_type": "execute_result"
    }
   ],
   "source": [
    "df.head()"
   ]
  },
  {
   "cell_type": "code",
   "execution_count": 26,
   "id": "60f2ed28",
   "metadata": {},
   "outputs": [],
   "source": [
    "df['Date'] = pd.to_datetime(df['tradetime2'], format='%d-%m-%Y')"
   ]
  },
  {
   "cell_type": "code",
   "execution_count": 28,
   "id": "4be7d437",
   "metadata": {},
   "outputs": [
    {
     "data": {
      "text/html": [
       "<div>\n",
       "<style scoped>\n",
       "    .dataframe tbody tr th:only-of-type {\n",
       "        vertical-align: middle;\n",
       "    }\n",
       "\n",
       "    .dataframe tbody tr th {\n",
       "        vertical-align: top;\n",
       "    }\n",
       "\n",
       "    .dataframe thead th {\n",
       "        text-align: right;\n",
       "    }\n",
       "</style>\n",
       "<table border=\"1\" class=\"dataframe\">\n",
       "  <thead>\n",
       "    <tr style=\"text-align: right;\">\n",
       "      <th></th>\n",
       "      <th>id</th>\n",
       "      <th>script</th>\n",
       "      <th>stock</th>\n",
       "      <th>high</th>\n",
       "      <th>low</th>\n",
       "      <th>open</th>\n",
       "      <th>close</th>\n",
       "      <th>quantity</th>\n",
       "      <th>tradetime2</th>\n",
       "      <th>Date</th>\n",
       "    </tr>\n",
       "  </thead>\n",
       "  <tbody>\n",
       "    <tr>\n",
       "      <th>0</th>\n",
       "      <td>1</td>\n",
       "      <td>ZENITHSTL</td>\n",
       "      <td>EQ</td>\n",
       "      <td>5.30</td>\n",
       "      <td>5.10</td>\n",
       "      <td>5.15</td>\n",
       "      <td>5.10</td>\n",
       "      <td>238674</td>\n",
       "      <td>11-11-2022</td>\n",
       "      <td>2022-11-11</td>\n",
       "    </tr>\n",
       "    <tr>\n",
       "      <th>1</th>\n",
       "      <td>2</td>\n",
       "      <td>ZENITHSTL</td>\n",
       "      <td>EQ</td>\n",
       "      <td>5.30</td>\n",
       "      <td>5.00</td>\n",
       "      <td>5.25</td>\n",
       "      <td>5.05</td>\n",
       "      <td>197247</td>\n",
       "      <td>14-11-2022</td>\n",
       "      <td>2022-11-14</td>\n",
       "    </tr>\n",
       "    <tr>\n",
       "      <th>2</th>\n",
       "      <td>3</td>\n",
       "      <td>ZENITHSTL</td>\n",
       "      <td>EQ</td>\n",
       "      <td>5.25</td>\n",
       "      <td>4.85</td>\n",
       "      <td>5.25</td>\n",
       "      <td>4.95</td>\n",
       "      <td>281235</td>\n",
       "      <td>15-11-2022</td>\n",
       "      <td>2022-11-15</td>\n",
       "    </tr>\n",
       "    <tr>\n",
       "      <th>3</th>\n",
       "      <td>4</td>\n",
       "      <td>ZENITHSTL</td>\n",
       "      <td>EQ</td>\n",
       "      <td>5.05</td>\n",
       "      <td>4.85</td>\n",
       "      <td>5.05</td>\n",
       "      <td>4.95</td>\n",
       "      <td>191339</td>\n",
       "      <td>16-11-2022</td>\n",
       "      <td>2022-11-16</td>\n",
       "    </tr>\n",
       "    <tr>\n",
       "      <th>4</th>\n",
       "      <td>5</td>\n",
       "      <td>ZENITHSTL</td>\n",
       "      <td>EQ</td>\n",
       "      <td>5.05</td>\n",
       "      <td>4.75</td>\n",
       "      <td>5.05</td>\n",
       "      <td>4.80</td>\n",
       "      <td>203404</td>\n",
       "      <td>17-11-2022</td>\n",
       "      <td>2022-11-17</td>\n",
       "    </tr>\n",
       "  </tbody>\n",
       "</table>\n",
       "</div>"
      ],
      "text/plain": [
       "   id     script stock  high   low  open  close  quantity  tradetime2  \\\n",
       "0   1  ZENITHSTL    EQ  5.30  5.10  5.15   5.10    238674  11-11-2022   \n",
       "1   2  ZENITHSTL    EQ  5.30  5.00  5.25   5.05    197247  14-11-2022   \n",
       "2   3  ZENITHSTL    EQ  5.25  4.85  5.25   4.95    281235  15-11-2022   \n",
       "3   4  ZENITHSTL    EQ  5.05  4.85  5.05   4.95    191339  16-11-2022   \n",
       "4   5  ZENITHSTL    EQ  5.05  4.75  5.05   4.80    203404  17-11-2022   \n",
       "\n",
       "        Date  \n",
       "0 2022-11-11  \n",
       "1 2022-11-14  \n",
       "2 2022-11-15  \n",
       "3 2022-11-16  \n",
       "4 2022-11-17  "
      ]
     },
     "execution_count": 28,
     "metadata": {},
     "output_type": "execute_result"
    }
   ],
   "source": [
    "df.drop('tradetime2_datetime', axis=1, inplace=True)\n",
    "df.head()"
   ]
  },
  {
   "cell_type": "code",
   "execution_count": 32,
   "id": "0dc6d4c5",
   "metadata": {},
   "outputs": [
    {
     "data": {
      "text/html": [
       "<div>\n",
       "<style scoped>\n",
       "    .dataframe tbody tr th:only-of-type {\n",
       "        vertical-align: middle;\n",
       "    }\n",
       "\n",
       "    .dataframe tbody tr th {\n",
       "        vertical-align: top;\n",
       "    }\n",
       "\n",
       "    .dataframe thead th {\n",
       "        text-align: right;\n",
       "    }\n",
       "</style>\n",
       "<table border=\"1\" class=\"dataframe\">\n",
       "  <thead>\n",
       "    <tr style=\"text-align: right;\">\n",
       "      <th></th>\n",
       "      <th>script</th>\n",
       "      <th>stock</th>\n",
       "      <th>high</th>\n",
       "      <th>low</th>\n",
       "      <th>open</th>\n",
       "      <th>close</th>\n",
       "      <th>quantity</th>\n",
       "      <th>tradetime2</th>\n",
       "      <th>Date</th>\n",
       "    </tr>\n",
       "  </thead>\n",
       "  <tbody>\n",
       "    <tr>\n",
       "      <th>0</th>\n",
       "      <td>ZENITHSTL</td>\n",
       "      <td>EQ</td>\n",
       "      <td>5.30</td>\n",
       "      <td>5.10</td>\n",
       "      <td>5.15</td>\n",
       "      <td>5.10</td>\n",
       "      <td>238674</td>\n",
       "      <td>11-11-2022</td>\n",
       "      <td>2022-11-11</td>\n",
       "    </tr>\n",
       "    <tr>\n",
       "      <th>1</th>\n",
       "      <td>ZENITHSTL</td>\n",
       "      <td>EQ</td>\n",
       "      <td>5.30</td>\n",
       "      <td>5.00</td>\n",
       "      <td>5.25</td>\n",
       "      <td>5.05</td>\n",
       "      <td>197247</td>\n",
       "      <td>14-11-2022</td>\n",
       "      <td>2022-11-14</td>\n",
       "    </tr>\n",
       "    <tr>\n",
       "      <th>2</th>\n",
       "      <td>ZENITHSTL</td>\n",
       "      <td>EQ</td>\n",
       "      <td>5.25</td>\n",
       "      <td>4.85</td>\n",
       "      <td>5.25</td>\n",
       "      <td>4.95</td>\n",
       "      <td>281235</td>\n",
       "      <td>15-11-2022</td>\n",
       "      <td>2022-11-15</td>\n",
       "    </tr>\n",
       "    <tr>\n",
       "      <th>3</th>\n",
       "      <td>ZENITHSTL</td>\n",
       "      <td>EQ</td>\n",
       "      <td>5.05</td>\n",
       "      <td>4.85</td>\n",
       "      <td>5.05</td>\n",
       "      <td>4.95</td>\n",
       "      <td>191339</td>\n",
       "      <td>16-11-2022</td>\n",
       "      <td>2022-11-16</td>\n",
       "    </tr>\n",
       "    <tr>\n",
       "      <th>4</th>\n",
       "      <td>ZENITHSTL</td>\n",
       "      <td>EQ</td>\n",
       "      <td>5.05</td>\n",
       "      <td>4.75</td>\n",
       "      <td>5.05</td>\n",
       "      <td>4.80</td>\n",
       "      <td>203404</td>\n",
       "      <td>17-11-2022</td>\n",
       "      <td>2022-11-17</td>\n",
       "    </tr>\n",
       "  </tbody>\n",
       "</table>\n",
       "</div>"
      ],
      "text/plain": [
       "      script stock  high   low  open  close  quantity  tradetime2       Date\n",
       "0  ZENITHSTL    EQ  5.30  5.10  5.15   5.10    238674  11-11-2022 2022-11-11\n",
       "1  ZENITHSTL    EQ  5.30  5.00  5.25   5.05    197247  14-11-2022 2022-11-14\n",
       "2  ZENITHSTL    EQ  5.25  4.85  5.25   4.95    281235  15-11-2022 2022-11-15\n",
       "3  ZENITHSTL    EQ  5.05  4.85  5.05   4.95    191339  16-11-2022 2022-11-16\n",
       "4  ZENITHSTL    EQ  5.05  4.75  5.05   4.80    203404  17-11-2022 2022-11-17"
      ]
     },
     "execution_count": 32,
     "metadata": {},
     "output_type": "execute_result"
    }
   ],
   "source": [
    "df.drop('id', axis=1, inplace=True)\n",
    "df.head()"
   ]
  },
  {
   "cell_type": "code",
   "execution_count": 33,
   "id": "d7622af7",
   "metadata": {},
   "outputs": [
    {
     "data": {
      "text/plain": [
       "(36, 9)"
      ]
     },
     "execution_count": 33,
     "metadata": {},
     "output_type": "execute_result"
    }
   ],
   "source": [
    "df.shape"
   ]
  },
  {
   "cell_type": "code",
   "execution_count": 34,
   "id": "6a95619f",
   "metadata": {},
   "outputs": [
    {
     "data": {
      "text/plain": [
       "script        0\n",
       "stock         0\n",
       "high          0\n",
       "low           0\n",
       "open          0\n",
       "close         0\n",
       "quantity      0\n",
       "tradetime2    0\n",
       "Date          0\n",
       "dtype: int64"
      ]
     },
     "execution_count": 34,
     "metadata": {},
     "output_type": "execute_result"
    }
   ],
   "source": [
    "df.isnull().sum()"
   ]
  },
  {
   "cell_type": "code",
   "execution_count": 35,
   "id": "bba065dd",
   "metadata": {},
   "outputs": [
    {
     "data": {
      "text/plain": [
       "script        False\n",
       "stock         False\n",
       "high          False\n",
       "low           False\n",
       "open          False\n",
       "close         False\n",
       "quantity      False\n",
       "tradetime2    False\n",
       "Date          False\n",
       "dtype: bool"
      ]
     },
     "execution_count": 35,
     "metadata": {},
     "output_type": "execute_result"
    }
   ],
   "source": [
    "df.isna().any()"
   ]
  },
  {
   "cell_type": "code",
   "execution_count": 36,
   "id": "90a1fc6e",
   "metadata": {},
   "outputs": [
    {
     "name": "stdout",
     "output_type": "stream",
     "text": [
      "<class 'pandas.core.frame.DataFrame'>\n",
      "RangeIndex: 36 entries, 0 to 35\n",
      "Data columns (total 9 columns):\n",
      " #   Column      Non-Null Count  Dtype         \n",
      "---  ------      --------------  -----         \n",
      " 0   script      36 non-null     object        \n",
      " 1   stock       36 non-null     object        \n",
      " 2   high        36 non-null     float64       \n",
      " 3   low         36 non-null     float64       \n",
      " 4   open        36 non-null     float64       \n",
      " 5   close       36 non-null     float64       \n",
      " 6   quantity    36 non-null     int64         \n",
      " 7   tradetime2  36 non-null     object        \n",
      " 8   Date        36 non-null     datetime64[ns]\n",
      "dtypes: datetime64[ns](1), float64(4), int64(1), object(3)\n",
      "memory usage: 2.7+ KB\n"
     ]
    }
   ],
   "source": [
    "df.info()"
   ]
  },
  {
   "cell_type": "code",
   "execution_count": 37,
   "id": "0c235f7c",
   "metadata": {},
   "outputs": [
    {
     "data": {
      "text/html": [
       "<div>\n",
       "<style scoped>\n",
       "    .dataframe tbody tr th:only-of-type {\n",
       "        vertical-align: middle;\n",
       "    }\n",
       "\n",
       "    .dataframe tbody tr th {\n",
       "        vertical-align: top;\n",
       "    }\n",
       "\n",
       "    .dataframe thead th {\n",
       "        text-align: right;\n",
       "    }\n",
       "</style>\n",
       "<table border=\"1\" class=\"dataframe\">\n",
       "  <thead>\n",
       "    <tr style=\"text-align: right;\">\n",
       "      <th></th>\n",
       "      <th>high</th>\n",
       "      <th>low</th>\n",
       "      <th>open</th>\n",
       "      <th>close</th>\n",
       "      <th>quantity</th>\n",
       "      <th>Date</th>\n",
       "    </tr>\n",
       "  </thead>\n",
       "  <tbody>\n",
       "    <tr>\n",
       "      <th>count</th>\n",
       "      <td>36.000000</td>\n",
       "      <td>36.000000</td>\n",
       "      <td>36.000000</td>\n",
       "      <td>36.000000</td>\n",
       "      <td>3.600000e+01</td>\n",
       "      <td>36</td>\n",
       "    </tr>\n",
       "    <tr>\n",
       "      <th>mean</th>\n",
       "      <td>5.286111</td>\n",
       "      <td>4.937500</td>\n",
       "      <td>5.158333</td>\n",
       "      <td>5.083333</td>\n",
       "      <td>3.290330e+05</td>\n",
       "      <td>2022-12-06 06:40:00</td>\n",
       "    </tr>\n",
       "    <tr>\n",
       "      <th>min</th>\n",
       "      <td>4.650000</td>\n",
       "      <td>4.200000</td>\n",
       "      <td>4.300000</td>\n",
       "      <td>4.300000</td>\n",
       "      <td>1.075970e+05</td>\n",
       "      <td>2022-11-11 00:00:00</td>\n",
       "    </tr>\n",
       "    <tr>\n",
       "      <th>25%</th>\n",
       "      <td>4.887500</td>\n",
       "      <td>4.600000</td>\n",
       "      <td>4.837500</td>\n",
       "      <td>4.750000</td>\n",
       "      <td>1.972145e+05</td>\n",
       "      <td>2022-11-23 18:00:00</td>\n",
       "    </tr>\n",
       "    <tr>\n",
       "      <th>50%</th>\n",
       "      <td>5.325000</td>\n",
       "      <td>4.900000</td>\n",
       "      <td>5.200000</td>\n",
       "      <td>5.125000</td>\n",
       "      <td>2.276220e+05</td>\n",
       "      <td>2022-12-06 12:00:00</td>\n",
       "    </tr>\n",
       "    <tr>\n",
       "      <th>75%</th>\n",
       "      <td>5.562500</td>\n",
       "      <td>5.262500</td>\n",
       "      <td>5.500000</td>\n",
       "      <td>5.400000</td>\n",
       "      <td>4.079618e+05</td>\n",
       "      <td>2022-12-19 06:00:00</td>\n",
       "    </tr>\n",
       "    <tr>\n",
       "      <th>max</th>\n",
       "      <td>6.100000</td>\n",
       "      <td>5.650000</td>\n",
       "      <td>5.850000</td>\n",
       "      <td>5.750000</td>\n",
       "      <td>1.894837e+06</td>\n",
       "      <td>2022-12-30 00:00:00</td>\n",
       "    </tr>\n",
       "    <tr>\n",
       "      <th>std</th>\n",
       "      <td>0.399394</td>\n",
       "      <td>0.384406</td>\n",
       "      <td>0.391061</td>\n",
       "      <td>0.386375</td>\n",
       "      <td>2.977801e+05</td>\n",
       "      <td>NaN</td>\n",
       "    </tr>\n",
       "  </tbody>\n",
       "</table>\n",
       "</div>"
      ],
      "text/plain": [
       "            high        low       open      close      quantity  \\\n",
       "count  36.000000  36.000000  36.000000  36.000000  3.600000e+01   \n",
       "mean    5.286111   4.937500   5.158333   5.083333  3.290330e+05   \n",
       "min     4.650000   4.200000   4.300000   4.300000  1.075970e+05   \n",
       "25%     4.887500   4.600000   4.837500   4.750000  1.972145e+05   \n",
       "50%     5.325000   4.900000   5.200000   5.125000  2.276220e+05   \n",
       "75%     5.562500   5.262500   5.500000   5.400000  4.079618e+05   \n",
       "max     6.100000   5.650000   5.850000   5.750000  1.894837e+06   \n",
       "std     0.399394   0.384406   0.391061   0.386375  2.977801e+05   \n",
       "\n",
       "                      Date  \n",
       "count                   36  \n",
       "mean   2022-12-06 06:40:00  \n",
       "min    2022-11-11 00:00:00  \n",
       "25%    2022-11-23 18:00:00  \n",
       "50%    2022-12-06 12:00:00  \n",
       "75%    2022-12-19 06:00:00  \n",
       "max    2022-12-30 00:00:00  \n",
       "std                    NaN  "
      ]
     },
     "execution_count": 37,
     "metadata": {},
     "output_type": "execute_result"
    }
   ],
   "source": [
    "df.describe()"
   ]
  },
  {
   "cell_type": "code",
   "execution_count": 39,
   "id": "b0de644c",
   "metadata": {},
   "outputs": [
    {
     "data": {
      "text/plain": [
       "<AxesSubplot:>"
      ]
     },
     "execution_count": 39,
     "metadata": {},
     "output_type": "execute_result"
    },
    {
     "data": {
      "image/png": "[encoded data removed]",
      "text/plain": [
       "<Figure size 1152x432 with 1 Axes>"
      ]
     },
     "metadata": {
      "needs_background": "light"
     },
     "output_type": "display_data"
    }
   ],
   "source": [
    "df['open'].plot(figsize=(16,6))"
   ]
  },
  {
   "cell_type": "code",
   "execution_count": 40,
   "id": "1f909385",
   "metadata": {},
   "outputs": [],
   "source": [
    "# linear regration algoridum\n",
    "x = df[['open','high','low','quantity']]\n",
    "y = df['close']"
   ]
  },
  {
   "cell_type": "code",
   "execution_count": 41,
   "id": "da698965",
   "metadata": {},
   "outputs": [],
   "source": [
    "from sklearn.model_selection import train_test_split\n",
    "x_train , x_test , y_train, y_test = train_test_split(x ,y , random_state = 0)"
   ]
  },
  {
   "cell_type": "code",
   "execution_count": 42,
   "id": "e07d677c",
   "metadata": {},
   "outputs": [
    {
     "data": {
      "text/plain": [
       "(27, 4)"
      ]
     },
     "execution_count": 42,
     "metadata": {},
     "output_type": "execute_result"
    }
   ],
   "source": [
    "x_train.shape"
   ]
  },
  {
   "cell_type": "code",
   "execution_count": 43,
   "id": "411ae9c0",
   "metadata": {},
   "outputs": [
    {
     "data": {
      "text/plain": [
       "(9, 4)"
      ]
     },
     "execution_count": 43,
     "metadata": {},
     "output_type": "execute_result"
    }
   ],
   "source": [
    "x_test.shape"
   ]
  },
  {
   "cell_type": "code",
   "execution_count": 44,
   "id": "c4f438da",
   "metadata": {},
   "outputs": [],
   "source": [
    "from sklearn.linear_model import LinearRegression\n",
    "from sklearn.metrics import confusion_matrix, accuracy_score\n",
    "regressor = LinearRegression()"
   ]
  },
  {
   "cell_type": "code",
   "execution_count": 45,
   "id": "9139200c",
   "metadata": {},
   "outputs": [
    {
     "data": {
      "text/plain": [
       "LinearRegression()"
      ]
     },
     "execution_count": 45,
     "metadata": {},
     "output_type": "execute_result"
    }
   ],
   "source": [
    "regressor.fit(x_train,y_train)"
   ]
  },
  {
   "cell_type": "code",
   "execution_count": 46,
   "id": "637cd8b6",
   "metadata": {},
   "outputs": [
    {
     "name": "stdout",
     "output_type": "stream",
     "text": [
      "[-1.14933135e-01  6.56198798e-01  4.90849194e-01 -6.14770894e-08]\n"
     ]
    }
   ],
   "source": [
    "print(regressor.coef_)"
   ]
  },
  {
   "cell_type": "code",
   "execution_count": 47,
   "id": "8739bf82",
   "metadata": {},
   "outputs": [
    {
     "name": "stdout",
     "output_type": "stream",
     "text": [
      "-0.2026836096634934\n"
     ]
    }
   ],
   "source": [
    "print(regressor.intercept_)"
   ]
  },
  {
   "cell_type": "code",
   "execution_count": 48,
   "id": "a6d49741",
   "metadata": {},
   "outputs": [],
   "source": [
    "predicted = regressor.predict(x_test)"
   ]
  },
  {
   "cell_type": "code",
   "execution_count": 49,
   "id": "8efd980b",
   "metadata": {},
   "outputs": [
    {
     "name": "stdout",
     "output_type": "stream",
     "text": [
      "    open  high   low  quantity\n",
      "31  4.80  5.35  4.60    312971\n",
      "20  5.55  5.70  5.10    439469\n",
      "16  4.80  4.85  4.70    226975\n",
      "30  5.50  5.50  4.70    488409\n",
      "22  5.35  5.50  5.30    175504\n",
      "15  4.65  4.80  4.65    128662\n",
      "10  4.30  4.70  4.20    449802\n",
      "2   5.25  5.25  4.85    281235\n",
      "11  4.90  5.05  4.80    572960\n"
     ]
    }
   ],
   "source": [
    "print(x_test)"
   ]
  },
  {
   "cell_type": "code",
   "execution_count": 50,
   "id": "721a8eb1",
   "metadata": {},
   "outputs": [],
   "source": [
    "dframe=pd.DataFrame(y_test,predicted)"
   ]
  },
  {
   "cell_type": "code",
   "execution_count": 51,
   "id": "0f763809",
   "metadata": {},
   "outputs": [],
   "source": [
    "dfr=pd.DataFrame({'Actual':y_test,'Predicted':predicted})"
   ]
  },
  {
   "cell_type": "code",
   "execution_count": 52,
   "id": "4763ec54",
   "metadata": {},
   "outputs": [
    {
     "name": "stdout",
     "output_type": "stream",
     "text": [
      "    Actual  Predicted\n",
      "31    5.15   4.994967\n",
      "20    5.40   5.376084\n",
      "16    4.80   4.721239\n",
      "30    4.75   5.051243\n",
      "22    5.35   5.382229\n",
      "15    4.75   4.687171\n",
      "10    4.70   4.421152\n",
      "2     4.95   5.002290\n",
      "11    4.90   4.868800\n"
     ]
    }
   ],
   "source": [
    "print(dfr)"
   ]
  },
  {
   "cell_type": "code",
   "execution_count": 53,
   "id": "89f93bbf",
   "metadata": {},
   "outputs": [],
   "source": [
    "from sklearn.metrics import confusion_matrix, accuracy_score"
   ]
  },
  {
   "cell_type": "code",
   "execution_count": 54,
   "id": "0d7fd1d6",
   "metadata": {},
   "outputs": [
    {
     "data": {
      "text/plain": [
       "0.6322063275236636"
      ]
     },
     "execution_count": 54,
     "metadata": {},
     "output_type": "execute_result"
    }
   ],
   "source": [
    "regressor.score(x_test,y_test)"
   ]
  },
  {
   "cell_type": "code",
   "execution_count": 55,
   "id": "991662df",
   "metadata": {},
   "outputs": [],
   "source": [
    "import math"
   ]
  },
  {
   "cell_type": "code",
   "execution_count": 56,
   "id": "1d990fb9",
   "metadata": {},
   "outputs": [
    {
     "name": "stdout",
     "output_type": "stream",
     "text": [
      "Mean Absolute Error: 0.11292764624306725\n"
     ]
    }
   ],
   "source": [
    "print('Mean Absolute Error:',metrics.mean_absolute_error(y_test,predicted))"
   ]
  },
  {
   "cell_type": "code",
   "execution_count": 57,
   "id": "b820699d",
   "metadata": {},
   "outputs": [
    {
     "name": "stdout",
     "output_type": "stream",
     "text": [
      "Mean Squared Error: 0.023111972751908065\n"
     ]
    }
   ],
   "source": [
    "print('Mean Squared Error:',metrics.mean_squared_error(y_test,predicted))"
   ]
  },
  {
   "cell_type": "code",
   "execution_count": null,
   "id": "a7f1cdeb",
   "metadata": {},
   "outputs": [],
   "source": []
  }
 ],
 "metadata": {
  "kernelspec": {
   "display_name": "Python 3 (ipykernel)",
   "language": "python",
   "name": "python3"
  },
  "language_info": {
   "codemirror_mode": {
    "name": "ipython",
    "version": 3
   },
   "file_extension": ".py",
   "mimetype": "text/x-python",
   "name": "python",
   "nbconvert_exporter": "python",
   "pygments_lexer": "ipython3",
   "version": "3.9.10"
  }
 },
 "nbformat": 4,
 "nbformat_minor": 5
}
